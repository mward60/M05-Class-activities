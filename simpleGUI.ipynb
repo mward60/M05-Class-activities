{
 "cells": [
  {
   "cell_type": "code",
   "execution_count": null,
   "id": "b9530682",
   "metadata": {},
   "outputs": [],
   "source": [
    "from tkinter import *\n",
    "# imports all definitions from tkinter\n",
    "\n",
    "window = Tk() # Creates a window\n",
    "label = Label(window, text = \"Welcome to Python\")# Creates a label.\n",
    "button = Button(window, text = \"Click Me\")# Creates a button.\n",
    "label.pack() # places the label into the window.\n",
    "button.pack() # places the button into the window. \n",
    "\n",
    "window.mainloop() # Creates an event line.\n",
    "\n"
   ]
  },
  {
   "cell_type": "code",
   "execution_count": null,
   "id": "665db4cb",
   "metadata": {},
   "outputs": [],
   "source": []
  }
 ],
 "metadata": {
  "kernelspec": {
   "display_name": "Python 3 (ipykernel)",
   "language": "python",
   "name": "python3"
  },
  "language_info": {
   "codemirror_mode": {
    "name": "ipython",
    "version": 3
   },
   "file_extension": ".py",
   "mimetype": "text/x-python",
   "name": "python",
   "nbconvert_exporter": "python",
   "pygments_lexer": "ipython3",
   "version": "3.9.13"
  }
 },
 "nbformat": 4,
 "nbformat_minor": 5
}
