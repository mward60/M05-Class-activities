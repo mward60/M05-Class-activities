{
 "cells": [
  {
   "cell_type": "code",
   "execution_count": 4,
   "id": "d3321412",
   "metadata": {},
   "outputs": [],
   "source": [
    "#ProcessButtonEventAltCode.py\n",
    "from tkinter import *\n",
    "def __init__(self):\n",
    "    window = Tk()\n",
    "    btOK = Button(window, text = \"OK\", fg = \"red\", command = processOK)\n",
    "    btCancel = Button(window, text = \"Cancel\", bg = \"yellow\", command = processCancel)\n",
    "    btOK.pack()\n",
    "    btCancel.pack()\n",
    "\n",
    "\n",
    "def processOK():\n",
    "    print(\"Ok button is clicked\")\n",
    "\n",
    "def processCancel():\n",
    "    print(\"Cancel button is clicked\")\n",
    "    \n",
    "\n"
   ]
  },
  {
   "cell_type": "code",
   "execution_count": null,
   "id": "f5feba27",
   "metadata": {},
   "outputs": [],
   "source": []
  },
  {
   "cell_type": "code",
   "execution_count": null,
   "id": "a3385b9d",
   "metadata": {},
   "outputs": [],
   "source": []
  }
 ],
 "metadata": {
  "kernelspec": {
   "display_name": "Python 3 (ipykernel)",
   "language": "python",
   "name": "python3"
  },
  "language_info": {
   "codemirror_mode": {
    "name": "ipython",
    "version": 3
   },
   "file_extension": ".py",
   "mimetype": "text/x-python",
   "name": "python",
   "nbconvert_exporter": "python",
   "pygments_lexer": "ipython3",
   "version": "3.9.13"
  }
 },
 "nbformat": 4,
 "nbformat_minor": 5
}
